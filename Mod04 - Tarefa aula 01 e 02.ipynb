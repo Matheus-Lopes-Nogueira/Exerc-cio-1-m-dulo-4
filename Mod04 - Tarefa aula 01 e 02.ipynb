{
 "cells": [
  {
   "cell_type": "markdown",
   "metadata": {},
   "source": [
    "# Tarefa 01\n",
    "\n",
    "- Leia os enunciados com atenção\n",
    "- Saiba que pode haver mais de uma resposta correta\n",
    "- Insira novas células de código sempre que achar necessário\n",
    "- Em caso de dúvidas, procure os tutores\n",
    "- Divirta-se :)\n",
    "\n",
    "#### 1)  crie uma série do pandas a partir de uma lista com os dados abaixo:\n",
    "\n",
    "Em um estudo sobre alteração na tempreatura global, A NASA disponibiliza dados de diferenças de de temperatura média da superfície terrestre relativos às médias de temperatura entre 1951 e 1980. Os dados originais podem ser vistos no site da NASA/GISS, e estão dispostos a cada década na tabela abaixo.\n",
    "\n",
    "|ano|anomalia termica|\n",
    "|:-:|:----:|\n",
    "| 1900 | -0.08 |\n",
    "| 1920 | -0.27 |\n",
    "| 1940 | 0.12 |\n",
    "| 1960 | -0.03 |\n",
    "| 1980 | 0.26 |\n",
    "| 2000 | 0.40 |\n",
    "| 2020 | 1.02 |\n",
    "\n",
    "Crie uma séries do Pandas a partir de uma lista com esses dados."
   ]
  },
  {
   "cell_type": "code",
   "execution_count": 2,
   "metadata": {},
   "outputs": [
    {
     "data": {
      "text/html": [
       "<div>\n",
       "<style scoped>\n",
       "    .dataframe tbody tr th:only-of-type {\n",
       "        vertical-align: middle;\n",
       "    }\n",
       "\n",
       "    .dataframe tbody tr th {\n",
       "        vertical-align: top;\n",
       "    }\n",
       "\n",
       "    .dataframe thead th {\n",
       "        text-align: right;\n",
       "    }\n",
       "</style>\n",
       "<table border=\"1\" class=\"dataframe\">\n",
       "  <thead>\n",
       "    <tr style=\"text-align: right;\">\n",
       "      <th></th>\n",
       "      <th>Ano</th>\n",
       "      <th>par</th>\n",
       "    </tr>\n",
       "  </thead>\n",
       "  <tbody>\n",
       "    <tr>\n",
       "      <th>0</th>\n",
       "      <td>1900</td>\n",
       "      <td>-0.08</td>\n",
       "    </tr>\n",
       "    <tr>\n",
       "      <th>1</th>\n",
       "      <td>1920</td>\n",
       "      <td>-0.27</td>\n",
       "    </tr>\n",
       "    <tr>\n",
       "      <th>2</th>\n",
       "      <td>1940</td>\n",
       "      <td>0.12</td>\n",
       "    </tr>\n",
       "    <tr>\n",
       "      <th>3</th>\n",
       "      <td>1960</td>\n",
       "      <td>-0.03</td>\n",
       "    </tr>\n",
       "    <tr>\n",
       "      <th>4</th>\n",
       "      <td>1980</td>\n",
       "      <td>0.26</td>\n",
       "    </tr>\n",
       "    <tr>\n",
       "      <th>5</th>\n",
       "      <td>2000</td>\n",
       "      <td>0.40</td>\n",
       "    </tr>\n",
       "    <tr>\n",
       "      <th>6</th>\n",
       "      <td>2020</td>\n",
       "      <td>1.02</td>\n",
       "    </tr>\n",
       "  </tbody>\n",
       "</table>\n",
       "</div>"
      ],
      "text/plain": [
       "    Ano   par\n",
       "0  1900 -0.08\n",
       "1  1920 -0.27\n",
       "2  1940  0.12\n",
       "3  1960 -0.03\n",
       "4  1980  0.26\n",
       "5  2000  0.40\n",
       "6  2020  1.02"
      ]
     },
     "execution_count": 2,
     "metadata": {},
     "output_type": "execute_result"
    }
   ],
   "source": [
    "import pandas as pd\n",
    "import numpy as np\n",
    "\n",
    "# Seu código aqui\n",
    "pd.DataFrame({'Ano': [1900,1920,1940,1960,1980,2000,2020],\n",
    "              'par': [-0.08,-0.27,0.12,-0.03,0.26,0.40,1.02]})"
   ]
  },
  {
   "cell_type": "markdown",
   "metadata": {},
   "source": [
    "#### 2) Coloque os anos nos índices conforme a tabela."
   ]
  },
  {
   "cell_type": "code",
   "execution_count": 12,
   "metadata": {},
   "outputs": [
    {
     "name": "stdout",
     "output_type": "stream",
     "text": [
      "1900   -0.08\n",
      "1920   -0.27\n",
      "1940    0.12\n",
      "1960   -0.03\n",
      "1980    0.26\n",
      "2000    0.40\n",
      "2020    1.02\n",
      "dtype: float64\n"
     ]
    }
   ],
   "source": [
    "# seu código aqui\n",
    "anos = [1900, 1920, 1940, 1960, 1980, 2000, 2020]\n",
    "anomalias_termicas = [-0.08, -0.27, 0.12, -0.03, 0.26, 0.40, 1.02]\n",
    "serie_anomalias = pd.Series(data=anomalias_termicas, index=anos)\n",
    "print(serie_anomalias)"
   ]
  },
  {
   "cell_type": "markdown",
   "metadata": {},
   "source": [
    "#### 3) A partir do dicionário abaixo, crie uma séries do Pandas:"
   ]
  },
  {
   "cell_type": "code",
   "execution_count": 8,
   "metadata": {},
   "outputs": [
    {
     "name": "stdout",
     "output_type": "stream",
     "text": [
      "1900   -0.08\n",
      "1920   -0.27\n",
      "1940    0.12\n",
      "1960   -0.03\n",
      "1980    0.26\n",
      "2000    0.40\n",
      "2020    1.02\n",
      "dtype: float64\n"
     ]
    }
   ],
   "source": [
    "dic_temperaturas = {1900: -.08, 1920: -.27, 1940: .12, 1960: -.03, 1980: .26, 2000: .40, 2020: 1.02}\n",
    "\n",
    "# seu código aqui\n",
    "serie_temperaturas = pd.Series(dic_temperaturas)\n",
    "print(serie_temperaturas)"
   ]
  },
  {
   "cell_type": "markdown",
   "metadata": {},
   "source": [
    "#### 4) Transforme o ndarray abaixo em um dataframe. \n",
    "O numpy é capaz de gerar arrays n-dimensionais com números pseudo-aleatórios de acordo com uma variedade de distribuições, como no exemplo abaixo. Transforme esse nd-array em um DataFrame."
   ]
  },
  {
   "cell_type": "code",
   "execution_count": 14,
   "metadata": {},
   "outputs": [
    {
     "name": "stdout",
     "output_type": "stream",
     "text": [
      "      Coluna_1    Coluna_2    Coluna_3\n",
      "0    94.286850  110.424050  113.714828\n",
      "1    95.587610  107.124926   97.737315\n",
      "2   101.057038   96.853804   91.313291\n",
      "3   101.939882   88.753030   90.857738\n",
      "4   101.590691   99.697480   93.379806\n",
      "5    88.376957  110.480062   74.665729\n",
      "6    93.736174  104.433055   85.246437\n",
      "7   131.777307   97.492370   98.678277\n",
      "8    87.026507  107.417759  102.255296\n",
      "9   101.781609  107.765640  111.160559\n",
      "10  112.337210   97.552912   91.127588\n",
      "11  120.505943  102.181825   83.022655\n",
      "12  105.856959   98.817658  108.825558\n",
      "13  105.733380   93.986099   99.256221\n",
      "14   90.492602   84.527380  101.159987\n",
      "15   97.520150   86.367721   95.720113\n",
      "16  104.952121  117.217401   91.671198\n",
      "17   94.811266  108.888181  107.452828\n",
      "18  103.303262  100.685256  117.763334\n",
      "19  107.119125   99.773262  111.585536\n"
     ]
    }
   ],
   "source": [
    "arr = np.random.normal(100, 10, (20,3))\n",
    "\n",
    "# seu código aqui\n",
    "df = pd.DataFrame(arr, columns=['Coluna_1', 'Coluna_2', 'Coluna_3'])\n",
    "print(df)"
   ]
  },
  {
   "cell_type": "markdown",
   "metadata": {},
   "source": [
    "#### 5) Nomeie os índices das linhas com inteiros de 1 a 20, e as colunas com os nomes \"x1\", \"x2\", e \"x3\" respectivamente."
   ]
  },
  {
   "cell_type": "code",
   "execution_count": 21,
   "metadata": {},
   "outputs": [
    {
     "name": "stdout",
     "output_type": "stream",
     "text": [
      "            x1          x2          x3\n",
      "1   105.259061  104.014118  117.244983\n",
      "2   105.246694   98.166052   99.524572\n",
      "3   100.725792  101.970927   95.206128\n",
      "4    92.044622   88.277074   99.151959\n",
      "5    97.403934   84.999540  104.021331\n",
      "6    71.710523   93.823804  107.874886\n",
      "7    86.291913  109.757293   94.121949\n",
      "8    81.991702   86.782383   73.798561\n",
      "9    82.564183   79.965583   99.062159\n",
      "10   97.474996  108.111224  100.184410\n",
      "11   98.037650  103.649250  108.171488\n",
      "12   83.840652   92.970232  100.481566\n",
      "13   89.565010  107.447753   91.248704\n",
      "14  102.857855   89.182610  109.117497\n",
      "15   96.922914  108.481959  102.572172\n",
      "16   98.498865  112.458912   90.877722\n",
      "17   97.375567   89.024150  105.982662\n",
      "18  116.572041  103.733671   70.844857\n",
      "19   94.473612  121.371386  103.447427\n",
      "20   89.822222  108.977814   91.310466\n"
     ]
    }
   ],
   "source": [
    "#seu código aqui\n",
    "df = pd.DataFrame(arr, columns=['x1', 'x2', 'x3'])\n",
    "df.index = range(1, 21)\n",
    "print(df)"
   ]
  },
  {
   "cell_type": "markdown",
   "metadata": {},
   "source": [
    "#### 6) No DataFrame do exercício 5, crie uma nova coluna como sendo a média das três colunas, e dê a ela o nome de \"media\" (não recomendo colocar acentos em nomes de variáveis)."
   ]
  },
  {
   "cell_type": "code",
   "execution_count": 23,
   "metadata": {},
   "outputs": [
    {
     "name": "stdout",
     "output_type": "stream",
     "text": [
      "            x1          x2          x3       media\n",
      "1   105.259061  104.014118  117.244983  108.839387\n",
      "2   105.246694   98.166052   99.524572  100.979106\n",
      "3   100.725792  101.970927   95.206128   99.300949\n",
      "4    92.044622   88.277074   99.151959   93.157885\n",
      "5    97.403934   84.999540  104.021331   95.474935\n",
      "6    71.710523   93.823804  107.874886   91.136404\n",
      "7    86.291913  109.757293   94.121949   96.723719\n",
      "8    81.991702   86.782383   73.798561   80.857549\n",
      "9    82.564183   79.965583   99.062159   87.197309\n",
      "10   97.474996  108.111224  100.184410  101.923543\n",
      "11   98.037650  103.649250  108.171488  103.286129\n",
      "12   83.840652   92.970232  100.481566   92.430817\n",
      "13   89.565010  107.447753   91.248704   96.087156\n",
      "14  102.857855   89.182610  109.117497  100.385987\n",
      "15   96.922914  108.481959  102.572172  102.659015\n",
      "16   98.498865  112.458912   90.877722  100.611833\n",
      "17   97.375567   89.024150  105.982662   97.460793\n",
      "18  116.572041  103.733671   70.844857   97.050190\n",
      "19   94.473612  121.371386  103.447427  106.430809\n",
      "20   89.822222  108.977814   91.310466   96.703501\n"
     ]
    }
   ],
   "source": [
    "# seu código aqui\n",
    "df['media'] = df[['x1', 'x2', 'x3']].mean(axis=1)\n",
    "print(df)"
   ]
  },
  {
   "cell_type": "markdown",
   "metadata": {},
   "source": [
    "#### 7) No DataFrame do exercício 6, crie uma nova coluna chamada \"log_med\", contendo o logaritmo natural da média calculada no exercício 6 <br>"
   ]
  },
  {
   "cell_type": "code",
   "execution_count": 26,
   "metadata": {},
   "outputs": [
    {
     "name": "stdout",
     "output_type": "stream",
     "text": [
      "            x1          x2          x3       media   log_med\n",
      "1   105.259061  104.014118  117.244983  108.839387  4.689873\n",
      "2   105.246694   98.166052   99.524572  100.979106  4.614914\n",
      "3   100.725792  101.970927   95.206128   99.300949  4.598155\n",
      "4    92.044622   88.277074   99.151959   93.157885  4.534296\n",
      "5    97.403934   84.999540  104.021331   95.474935  4.558864\n",
      "6    71.710523   93.823804  107.874886   91.136404  4.512357\n",
      "7    86.291913  109.757293   94.121949   96.723719  4.571859\n",
      "8    81.991702   86.782383   73.798561   80.857549  4.392689\n",
      "9    82.564183   79.965583   99.062159   87.197309  4.468173\n",
      "10   97.474996  108.111224  100.184410  101.923543  4.624223\n",
      "11   98.037650  103.649250  108.171488  103.286129  4.637503\n",
      "12   83.840652   92.970232  100.481566   92.430817  4.526460\n",
      "13   89.565010  107.447753   91.248704   96.087156  4.565256\n",
      "14  102.857855   89.182610  109.117497  100.385987  4.609023\n",
      "15   96.922914  108.481959  102.572172  102.659015  4.631413\n",
      "16   98.498865  112.458912   90.877722  100.611833  4.611270\n",
      "17   97.375567   89.024150  105.982662   97.460793  4.579450\n",
      "18  116.572041  103.733671   70.844857   97.050190  4.575228\n",
      "19   94.473612  121.371386  103.447427  106.430809  4.667495\n",
      "20   89.822222  108.977814   91.310466   96.703501  4.571650\n"
     ]
    }
   ],
   "source": [
    "# seu código aqui\n",
    "df['log_med'] = np.log(df['media'])\n",
    "print(df)"
   ]
  },
  {
   "cell_type": "code",
   "execution_count": null,
   "metadata": {},
   "outputs": [],
   "source": []
  }
 ],
 "metadata": {
  "kernelspec": {
   "display_name": "Python 3 (ipykernel)",
   "language": "python",
   "name": "python3"
  },
  "language_info": {
   "codemirror_mode": {
    "name": "ipython",
    "version": 3
   },
   "file_extension": ".py",
   "mimetype": "text/x-python",
   "name": "python",
   "nbconvert_exporter": "python",
   "pygments_lexer": "ipython3",
   "version": "3.12.7"
  }
 },
 "nbformat": 4,
 "nbformat_minor": 4
}
